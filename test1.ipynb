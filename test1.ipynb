{
 "cells": [
  {
   "cell_type": "code",
   "execution_count": 5,
   "id": "c6a856b5",
   "metadata": {},
   "outputs": [],
   "source": [
    "from langchain_core.messages import HumanMessage\n",
    "from langgraph.checkpoint.memory import MemorySaver\n",
    "from langgraph.prebuilt import create_react_agent\n",
    "from langchain_ollama import ChatOllama\n",
    "def solve_expression(expression:str)->str:\n",
    "    '''return a value after evalutating a python expression using the \"eval()\" function'''\n",
    "    return eval(expression)\n",
    "\n",
    "# Create the agent\n",
    "model = ChatOllama(model=\"qwen3:1.7b\")\n",
    "tools = [solve_expression]\n",
    "agent_executor = create_react_agent(model, tools)"
   ]
  },
  {
   "cell_type": "code",
   "execution_count": 68,
   "id": "db546be7",
   "metadata": {},
   "outputs": [],
   "source": [
    "# Use the agent\n",
    "outt=\"\"\n",
    "outtt=\"\"\n",
    "for step in agent_executor.stream(\n",
    "    {\"messages\": [HumanMessage(content=\"solve 1-5*3/2\")]},\n",
    "    stream_mode=\"values\",\n",
    "):\n",
    "    outt+=step[\"messages\"][-1].pretty_repr()+\"\\n\"\n",
    "    outtt+=step[\"messages\"][-1].text()+\"\\n\""
   ]
  },
  {
   "cell_type": "code",
   "execution_count": 63,
   "id": "8e809c35",
   "metadata": {},
   "outputs": [
    {
     "name": "stdout",
     "output_type": "stream",
     "text": [
      "================================ Human Message =================================\n",
      "\n",
      "solve 1-5*3/2\n",
      "================================== Ai Message ==================================\n",
      "\n",
      "<think>\n",
      "Okay, the user wants to solve the expression 1 - 5 * 3 / 2. Let me think about the order of operations here. According to PEMDAS, multiplication and division are done before subtraction. So first, I need to calculate 5 * 3, which is 15. Then divide that by 2, giving 7.5. Finally, subtract that from 1. So 1 - 7.5 equals -6.5. I should use the solve_expression function to evaluate this. The function will handle the calculation using eval(), so I just need to pass the expression as a string. Let me make sure the expression is correctly formatted: \"1-5*3/2\". The function should return -6.5. Alright, time to call the function.\n",
      "</think>\n",
      "Tool Calls:\n",
      "  solve_expression (02440914-48bc-4f25-83d0-d09bac27d657)\n",
      " Call ID: 02440914-48bc-4f25-83d0-d09bac27d657\n",
      "  Args:\n",
      "    expression: 1-5*3/2\n",
      "================================= Tool Message =================================\n",
      "Name: solve_expression\n",
      "\n",
      "-6.5\n",
      "================================== Ai Message ==================================\n",
      "\n",
      "<think>\n",
      "Okay, the user asked to solve 1 - 5 * 3 / 2. Let me break it down step by step. First, according to the order of operations (PEMDAS), multiplication and division happen before subtraction. So I need to calculate 5 * 3 first, which is 15. Then divide that by 2, resulting in 7.5. Now subtract that from 1: 1 - 7.5 equals -6.5. The function was called with the expression \"1-5*3/2\", and it returned -6.5. That's correct. I should present the final answer as -6.5.\n",
      "</think>\n",
      "\n",
      "The result of evaluating $1 - 5 \\times 3 \\div 2$ is $\\boxed{-6.5}$.\n",
      "\n"
     ]
    }
   ],
   "source": [
    "print(outt)"
   ]
  },
  {
   "cell_type": "code",
   "execution_count": 16,
   "id": "62cc108b",
   "metadata": {},
   "outputs": [],
   "source": [
    "res=agent_executor.invoke(\n",
    "    {\"messages\": [HumanMessage(content=\"solve 1-5*3/2\")]},\n",
    ")"
   ]
  },
  {
   "cell_type": "code",
   "execution_count": 39,
   "id": "b2f5d491",
   "metadata": {},
   "outputs": [],
   "source": [
    "output=\"\"\n",
    "for i in res.get(\"messages\"):\n",
    "    output+=i.content+\"\\n\""
   ]
  },
  {
   "cell_type": "code",
   "execution_count": 69,
   "id": "297c0409",
   "metadata": {},
   "outputs": [],
   "source": [
    "from markdown import markdown\n",
    "with open(\"text.html\",\"w\",encoding=\"utf-8\") as f:\n",
    "    f.write(markdown(outt))\n",
    "with open(\"text.md\",\"w\",encoding=\"utf-8\") as f:\n",
    "    f.write(outtt)"
   ]
  },
  {
   "cell_type": "code",
   "execution_count": 49,
   "id": "26b7f0b3",
   "metadata": {},
   "outputs": [
    {
     "name": "stdout",
     "output_type": "stream",
     "text": [
      "{'messages': [HumanMessage(content='solve 1-5*3/2', additional_kwargs={}, response_metadata={}, id='4aed7527-54ab-46f2-91b9-5e830e7bce83'),\n",
      "              AIMessage(content='<think>\\nOkay, the user wants to solve the expression 1 - 5 * 3 / 2. Let me think about the order of operations here. According to PEMDAS, multiplication and division are done before subtraction. So first, I need to calculate 5 * 3, which is 15. Then divide that by 2, giving 7.5. Now subtract that from 1: 1 - 7.5 equals -6.5. Wait, but the tool they provided is called solve_expression, which uses eval(). Let me check if the expression is correctly formatted. The expression would be \"1 - 5 * 3 / 2\". Eval should handle that. So I should call the function with this expression. The result should be -6.5. I need to make sure the tool call is correctly structured with the expression parameter.\\n</think>\\n\\n', additional_kwargs={}, response_metadata={'model': 'qwen3:1.7b', 'created_at': '2025-06-14T18:05:22.592536Z', 'done': True, 'done_reason': 'stop', 'total_duration': 4671048400, 'load_duration': 87021700, 'prompt_eval_count': 157, 'prompt_eval_duration': 31933500, 'eval_count': 212, 'eval_duration': 4549687600, 'model_name': 'qwen3:1.7b'}, id='run--f46fdd9b-c88a-4653-a7fe-8bc1cc7fa34e-0', tool_calls=[{'name': 'solve_expression', 'args': {'expression': '1 - 5 * 3 / 2'}, 'id': '07953ebd-d27b-4aa6-a6e4-15da98efaaba', 'type': 'tool_call'}], usage_metadata={'input_tokens': 157, 'output_tokens': 212, 'total_tokens': 369}),\n",
      "              ToolMessage(content='-6.5', name='solve_expression', id='cc1f175f-722f-45cd-8ba0-ae20f8d16e65', tool_call_id='07953ebd-d27b-4aa6-a6e4-15da98efaaba'),\n",
      "              AIMessage(content='<think>\\nOkay, the user asked to solve 1 - 5 * 3 / 2. Let me break it down step by step. First, according to PEMDAS, multiplication and division happen before subtraction. So I calculate 5 * 3 = 15, then divide by 2, which is 7.5. Now subtract that from 1: 1 - 7.5 = -6.5. The tool called solve_expression evaluated the expression correctly. The result is -6.5. I should present this as the final answer.\\n</think>\\n\\nThe result of evaluating $1 - 5 \\\\times 3 \\\\div 2$ is $\\\\boxed{-6.5}$.', additional_kwargs={}, response_metadata={'model': 'qwen3:1.7b', 'created_at': '2025-06-14T18:05:26.0819304Z', 'done': True, 'done_reason': 'stop', 'total_duration': 3485574900, 'load_duration': 28568100, 'prompt_eval_count': 358, 'prompt_eval_duration': 40964300, 'eval_count': 148, 'eval_duration': 3407567300, 'model_name': 'qwen3:1.7b'}, id='run--7a813271-6734-4c5f-be06-a0b0d55e0d1c-0', usage_metadata={'input_tokens': 358, 'output_tokens': 148, 'total_tokens': 506})]}\n"
     ]
    }
   ],
   "source": [
    "from pprint import pformat,pprint\n",
    "pprint(res)"
   ]
  },
  {
   "cell_type": "code",
   "execution_count": 80,
   "id": "0fb587ff",
   "metadata": {},
   "outputs": [
    {
     "data": {
      "text/plain": [
       "495"
      ]
     },
     "execution_count": 80,
     "metadata": {},
     "output_type": "execute_result"
    }
   ],
   "source": [
    "open(\"text.md\",\"w\",encoding=\"utf-8\").write(res.get(\"messages\")[0].content+\"\\n\"+res.get(\"messages\")[-1].content)"
   ]
  },
  {
   "cell_type": "code",
   "execution_count": null,
   "id": "3ecf31f2",
   "metadata": {},
   "outputs": [],
   "source": []
  }
 ],
 "metadata": {
  "kernelspec": {
   "display_name": ".venv",
   "language": "python",
   "name": "python3"
  },
  "language_info": {
   "codemirror_mode": {
    "name": "ipython",
    "version": 3
   },
   "file_extension": ".py",
   "mimetype": "text/x-python",
   "name": "python",
   "nbconvert_exporter": "python",
   "pygments_lexer": "ipython3",
   "version": "3.12.4"
  }
 },
 "nbformat": 4,
 "nbformat_minor": 5
}

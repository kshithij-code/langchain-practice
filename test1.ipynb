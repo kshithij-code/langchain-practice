{
 "cells": [
  {
   "cell_type": "code",
   "execution_count": 10,
   "id": "c6a856b5",
   "metadata": {},
   "outputs": [],
   "source": [
    "from langchain_core.messages import HumanMessage,AIMessage,SystemMessage\n",
    "from langgraph.checkpoint.memory import MemorySaver\n",
    "from langgraph.prebuilt import create_react_agent\n",
    "from langchain_ollama import ChatOllama"
   ]
  },
  {
   "cell_type": "code",
   "execution_count": null,
   "id": "566c7810",
   "metadata": {},
   "outputs": [],
   "source": [
    "def solve_expression(expression:str)->str:\n",
    "    '''return a value after evalutating a python expression using the \"eval()\" function'''\n",
    "    return eval(expression)\n",
    "\n",
    "# Create the agent\n",
    "model = ChatOllama(model=\"qwen3:1.7b\")\n",
    "tools = [solve_expression]\n",
    "agent_executor = create_react_agent(model, tools)"
   ]
  },
  {
   "cell_type": "code",
   "execution_count": 68,
   "id": "db546be7",
   "metadata": {},
   "outputs": [],
   "source": [
    "# Use the agent\n",
    "outt=\"\"\n",
    "outtt=\"\"\n",
    "for step in agent_executor.stream(\n",
    "    {\"messages\": [HumanMessage(content=\"solve 1-5*3/2\")]},\n",
    "    stream_mode=\"values\",\n",
    "):\n",
    "    outt+=step[\"messages\"][-1].pretty_repr()+\"\\n\"\n",
    "    outtt+=step[\"messages\"][-1].text()+\"\\n\""
   ]
  },
  {
   "cell_type": "code",
   "execution_count": 63,
   "id": "8e809c35",
   "metadata": {},
   "outputs": [
    {
     "name": "stdout",
     "output_type": "stream",
     "text": [
      "================================ Human Message =================================\n",
      "\n",
      "solve 1-5*3/2\n",
      "================================== Ai Message ==================================\n",
      "\n",
      "<think>\n",
      "Okay, the user wants to solve the expression 1 - 5 * 3 / 2. Let me think about the order of operations here. According to PEMDAS, multiplication and division are done before subtraction. So first, I need to calculate 5 * 3, which is 15. Then divide that by 2, giving 7.5. Finally, subtract that from 1. So 1 - 7.5 equals -6.5. I should use the solve_expression function to evaluate this. The function will handle the calculation using eval(), so I just need to pass the expression as a string. Let me make sure the expression is correctly formatted: \"1-5*3/2\". The function should return -6.5. Alright, time to call the function.\n",
      "</think>\n",
      "Tool Calls:\n",
      "  solve_expression (02440914-48bc-4f25-83d0-d09bac27d657)\n",
      " Call ID: 02440914-48bc-4f25-83d0-d09bac27d657\n",
      "  Args:\n",
      "    expression: 1-5*3/2\n",
      "================================= Tool Message =================================\n",
      "Name: solve_expression\n",
      "\n",
      "-6.5\n",
      "================================== Ai Message ==================================\n",
      "\n",
      "<think>\n",
      "Okay, the user asked to solve 1 - 5 * 3 / 2. Let me break it down step by step. First, according to the order of operations (PEMDAS), multiplication and division happen before subtraction. So I need to calculate 5 * 3 first, which is 15. Then divide that by 2, resulting in 7.5. Now subtract that from 1: 1 - 7.5 equals -6.5. The function was called with the expression \"1-5*3/2\", and it returned -6.5. That's correct. I should present the final answer as -6.5.\n",
      "</think>\n",
      "\n",
      "The result of evaluating $1 - 5 \\times 3 \\div 2$ is $\\boxed{-6.5}$.\n",
      "\n"
     ]
    }
   ],
   "source": [
    "print(outt)"
   ]
  },
  {
   "cell_type": "code",
   "execution_count": 16,
   "id": "62cc108b",
   "metadata": {},
   "outputs": [],
   "source": [
    "res=agent_executor.invoke(\n",
    "    {\"messages\": [HumanMessage(content=\"solve 1-5*3/2\")]},\n",
    ")"
   ]
  },
  {
   "cell_type": "code",
   "execution_count": null,
   "id": "b2f5d491",
   "metadata": {},
   "outputs": [],
   "source": [
    "output=\"\"\n",
    "for file in res.get(\"messages\"):\n",
    "    output+=file.content+\"\\n\""
   ]
  },
  {
   "cell_type": "code",
   "execution_count": 69,
   "id": "297c0409",
   "metadata": {},
   "outputs": [],
   "source": [
    "from markdown import markdown\n",
    "with open(\"text.html\",\"w\",encoding=\"utf-8\") as f:\n",
    "    f.write(markdown(outt))\n",
    "with open(\"text.md\",\"w\",encoding=\"utf-8\") as f:\n",
    "    f.write(outtt)"
   ]
  },
  {
   "cell_type": "code",
   "execution_count": 49,
   "id": "26b7f0b3",
   "metadata": {},
   "outputs": [
    {
     "name": "stdout",
     "output_type": "stream",
     "text": [
      "{'messages': [HumanMessage(content='solve 1-5*3/2', additional_kwargs={}, response_metadata={}, id='4aed7527-54ab-46f2-91b9-5e830e7bce83'),\n",
      "              AIMessage(content='<think>\\nOkay, the user wants to solve the expression 1 - 5 * 3 / 2. Let me think about the order of operations here. According to PEMDAS, multiplication and division are done before subtraction. So first, I need to calculate 5 * 3, which is 15. Then divide that by 2, giving 7.5. Now subtract that from 1: 1 - 7.5 equals -6.5. Wait, but the tool they provided is called solve_expression, which uses eval(). Let me check if the expression is correctly formatted. The expression would be \"1 - 5 * 3 / 2\". Eval should handle that. So I should call the function with this expression. The result should be -6.5. I need to make sure the tool call is correctly structured with the expression parameter.\\n</think>\\n\\n', additional_kwargs={}, response_metadata={'model': 'qwen3:1.7b', 'created_at': '2025-06-14T18:05:22.592536Z', 'done': True, 'done_reason': 'stop', 'total_duration': 4671048400, 'load_duration': 87021700, 'prompt_eval_count': 157, 'prompt_eval_duration': 31933500, 'eval_count': 212, 'eval_duration': 4549687600, 'model_name': 'qwen3:1.7b'}, id='run--f46fdd9b-c88a-4653-a7fe-8bc1cc7fa34e-0', tool_calls=[{'name': 'solve_expression', 'args': {'expression': '1 - 5 * 3 / 2'}, 'id': '07953ebd-d27b-4aa6-a6e4-15da98efaaba', 'type': 'tool_call'}], usage_metadata={'input_tokens': 157, 'output_tokens': 212, 'total_tokens': 369}),\n",
      "              ToolMessage(content='-6.5', name='solve_expression', id='cc1f175f-722f-45cd-8ba0-ae20f8d16e65', tool_call_id='07953ebd-d27b-4aa6-a6e4-15da98efaaba'),\n",
      "              AIMessage(content='<think>\\nOkay, the user asked to solve 1 - 5 * 3 / 2. Let me break it down step by step. First, according to PEMDAS, multiplication and division happen before subtraction. So I calculate 5 * 3 = 15, then divide by 2, which is 7.5. Now subtract that from 1: 1 - 7.5 = -6.5. The tool called solve_expression evaluated the expression correctly. The result is -6.5. I should present this as the final answer.\\n</think>\\n\\nThe result of evaluating $1 - 5 \\\\times 3 \\\\div 2$ is $\\\\boxed{-6.5}$.', additional_kwargs={}, response_metadata={'model': 'qwen3:1.7b', 'created_at': '2025-06-14T18:05:26.0819304Z', 'done': True, 'done_reason': 'stop', 'total_duration': 3485574900, 'load_duration': 28568100, 'prompt_eval_count': 358, 'prompt_eval_duration': 40964300, 'eval_count': 148, 'eval_duration': 3407567300, 'model_name': 'qwen3:1.7b'}, id='run--7a813271-6734-4c5f-be06-a0b0d55e0d1c-0', usage_metadata={'input_tokens': 358, 'output_tokens': 148, 'total_tokens': 506})]}\n"
     ]
    }
   ],
   "source": [
    "from pprint import pformat,pprint\n",
    "pprint(res)"
   ]
  },
  {
   "cell_type": "code",
   "execution_count": 80,
   "id": "0fb587ff",
   "metadata": {},
   "outputs": [
    {
     "data": {
      "text/plain": [
       "495"
      ]
     },
     "execution_count": 80,
     "metadata": {},
     "output_type": "execute_result"
    }
   ],
   "source": [
    "open(\"text.md\",\"w\",encoding=\"utf-8\").write(res.get(\"messages\")[0].content+\"\\n\"+res.get(\"messages\")[-1].content)"
   ]
  },
  {
   "cell_type": "code",
   "execution_count": 2,
   "id": "3ecf31f2",
   "metadata": {},
   "outputs": [],
   "source": [
    "import datetime\n",
    "def solve_expression(expression:str)->str:\n",
    "    '''return a value after evalutating a python expression using the \"eval()\" function'''\n",
    "    return eval(expression)\n",
    "\n",
    "def get_date():\n",
    "    '''return today's date'''\n",
    "    return datetime.datetime.now()\n",
    "\n",
    "def get_info()->list[str]:\n",
    "    '''return todays news'''\n",
    "    return [\"Over 80 Killed In Iran, Israel As Missiles Pound Middle East: 10 Points\",\n",
    "            \"PM Modi on key 3-nation tour: Cyprus, Canada, Croatia on itinerary; what's on his agenda?\",\n",
    "            \"7 killed in helicopter crash in Uttarakhand, chopper services shut\"]\n",
    "\n",
    "model = ChatOllama(model=\"qwen3:1.7b\")\n",
    "tools = [solve_expression,get_date,get_info]\n",
    "agent = create_react_agent(model, tools)"
   ]
  },
  {
   "cell_type": "code",
   "execution_count": 6,
   "id": "468c10b7",
   "metadata": {},
   "outputs": [],
   "source": [
    "# Use the agent\n",
    "output=\"\"\n",
    "for step in agent.stream(\n",
    "    {\"messages\": [HumanMessage(content=input(\"message\"))]},\n",
    "    stream_mode=\"values\",\n",
    "):\n",
    "    output+=step[\"messages\"][-1].pretty_repr()+\"\\n\""
   ]
  },
  {
   "cell_type": "code",
   "execution_count": 7,
   "id": "c3837096",
   "metadata": {},
   "outputs": [
    {
     "name": "stdout",
     "output_type": "stream",
     "text": [
      "================================ Human Message =================================\n",
      "\n",
      "importent news today\n",
      "================================== Ai Message ==================================\n",
      "\n",
      "<think>\n",
      "Okay, the user is asking for today's important news. Let me check the available tools. There's a function called get_info which retrieves today's news. I don't need any parameters for that. So I should call get_info to fetch the news. Let me make sure there's no other functions related to news. The other functions are for solving expressions and getting the date. So definitely, get_info is the right choice here. I'll generate the tool call accordingly.\n",
      "</think>\n",
      "Tool Calls:\n",
      "  get_info (8bef133b-a00a-4c58-9b1f-25a9f7c8c4f0)\n",
      " Call ID: 8bef133b-a00a-4c58-9b1f-25a9f7c8c4f0\n",
      "  Args:\n",
      "================================= Tool Message =================================\n",
      "Name: get_info\n",
      "\n",
      "[\"Over 80 Killed In Iran, Israel As Missiles Pound Middle East: 10 Points\", \"PM Modi on key 3-nation tour: Cyprus, Canada, Croatia on itinerary; what's on his agenda?\", \"7 killed in helicopter crash in Uttarakhand, chopper services shut\"]\n",
      "================================== Ai Message ==================================\n",
      "\n",
      "<think>\n",
      "Alright, the user asked for today's important news. I used the get_info function and received three headlines. Let me summarize them briefly.\n",
      "\n",
      "First, there's a tragic event in Iran and Israel with missile attacks. Then, Prime Minister Modi is touring three countries. Lastly, a helicopter crash in Uttarakhand with seven deaths. I should present these in a clear, concise manner without markdown. Make sure to mention the key points from each headline and keep the response straightforward.\n",
      "</think>\n",
      "\n",
      "Here's today's important news:\n",
      "\n",
      "1. **Conflict in Middle East**: Over 80 people killed in Iran and Israel as missile attacks intensified, with ongoing tensions in the region.\n",
      "2. **Global Events**: Prime Minister Narendra Modi is set to visit Cyprus, Canada, and Croatia, focusing on diplomatic and economic ties.\n",
      "3. **Tragedy in Uttarakhand**: A helicopter crash claimed seven lives, prompting temporary closure of chopper services in the state.\n",
      "\n",
      "Let me know if you need further details!\n",
      "\n"
     ]
    }
   ],
   "source": [
    "print(output)"
   ]
  },
  {
   "cell_type": "code",
   "execution_count": 8,
   "id": "b8e709d6",
   "metadata": {},
   "outputs": [
    {
     "data": {
      "text/plain": [
       "2190"
      ]
     },
     "execution_count": 8,
     "metadata": {},
     "output_type": "execute_result"
    }
   ],
   "source": [
    "open(\"text.md\",\"w\",encoding=\"utf-8\").write(output)"
   ]
  },
  {
   "cell_type": "code",
   "execution_count": 4,
   "id": "c89d4e86",
   "metadata": {},
   "outputs": [
    {
     "data": {
      "image/png": "[encoded data removed]",
      "text/plain": [
       "<IPython.core.display.Image object>"
      ]
     },
     "execution_count": 4,
     "metadata": {},
     "output_type": "execute_result"
    }
   ],
   "source": [
    "from IPython.display import Image\n",
    "Image(agent.get_graph().draw_mermaid_png())"
   ]
  },
  {
   "cell_type": "code",
   "execution_count": null,
   "id": "99d269ff",
   "metadata": {},
   "outputs": [
    {
     "name": "stdout",
     "output_type": "stream",
     "text": [
      "================================\u001b[1m Human Message \u001b[0m=================================\n",
      "\n",
      "hi am kshithij\n",
      "==================================\u001b[1m Ai Message \u001b[0m==================================\n",
      "\n",
      "<think>\n",
      "Okay, the user said \"hi am kshithij\". First, I need to understand what they're asking for. They might be introducing themselves. Since there's no specific question, I should respond politely. Let me check the available tools. The functions are solve_expression, get_date, and get_info. None of these apply here. So, I'll just greet them and ask if there's anything else they need help with. Keep it friendly and open-ended.\n",
      "</think>\n",
      "\n",
      "Hello! Welcome, Kshithij. How can I assist you today? 😊\n",
      "================================\u001b[1m Human Message \u001b[0m=================================\n",
      "\n",
      "whats my name\n",
      "==================================\u001b[1m Ai Message \u001b[0m==================================\n",
      "\n",
      "<think>\n",
      "Okay, the user is asking, \"whats my name?\" They want to know their own name. Let me check the tools provided.\n",
      "\n",
      "Looking at the available functions: solve_expression, get_date, get_info. None of these functions can retrieve a person's name. The solve_expression can evaluate a Python expression, but that's for numerical or string calculations. Get_date and get_info are for dates and news, respectively. \n",
      "\n",
      "Since there's no function to get the user's name, I can't use any of the provided tools. I need to inform the user that I can't help with that request using the available tools. I should respond that I don't have access to personal information like names and suggest they provide the name directly if they need something related.\n",
      "</think>\n",
      "\n",
      "I don't have access to personal information like names. You would need to provide your name directly if you're looking for something related to it. Let me know how I can assist you!\n",
      "================================\u001b[1m Human Message \u001b[0m=================================\n",
      "\n",
      "did i tell you my name\n",
      "==================================\u001b[1m Ai Message \u001b[0m==================================\n",
      "\n",
      "<think>\n",
      "Okay, the user asked, \"Did I tell you my name?\" Let me think. They might be asking if I know their name. But wait, the tools provided are for solving expressions, getting the date, and fetching news. None of these functions can retrieve a user's name. The user is probably expecting a response about their name, but since there's no function to get the user's name, I can't use any tools here. I should inform them that I don't have the capability to retrieve their name and ask if they want help with something else using the available tools.\n",
      "</think>\n",
      "\n",
      "I don't have access to your personal information, including your name. However, I can help you with tasks like evaluating expressions, getting today's date, or fetching the latest news using the tools provided. Let me know how I can assist you!\n"
     ]
    }
   ],
   "source": [
    "# Use the agent\n",
    "from langchain_core.runnables.config import RunnableConfig\n",
    "import datetime\n",
    "\n",
    "memory=MemorySaver()\n",
    "\n",
    "def solve_expression(expression:str)->str:\n",
    "    '''return a value after evalutating a python expression using the \"eval()\" function'''\n",
    "    return eval(expression)\n",
    "\n",
    "def get_date():\n",
    "    '''return today's date'''\n",
    "    return datetime.datetime.now()\n",
    "\n",
    "\n",
    "model = ChatOllama(model=\"qwen3:1.7b\")\n",
    "tools = [solve_expression,get_date]\n",
    "agent = create_react_agent(model, tools)\n",
    "\n",
    "config:RunnableConfig = {\"configurable\": {\"thread_id\": \"abc123\"}}\n",
    "while True:\n",
    "    x=input()\n",
    "    if x==\"q\":\n",
    "        break\n",
    "    for step in agent.stream(\n",
    "        {\"messages\": [HumanMessage(content=x)]},\n",
    "        config,\n",
    "        stream_mode=\"values\",\n",
    "    ):\n",
    "        step[\"messages\"][-1].pretty_print()"
   ]
  },
  {
   "cell_type": "code",
   "execution_count": 59,
   "id": "f706bb43",
   "metadata": {},
   "outputs": [],
   "source": [
    "# from os import listdir\n",
    "# import itertools\n",
    "# from pprint import pprint\n",
    "# path=\"./hi\"\n",
    "# all_file=[path]\n",
    "# result=[]\n",
    "\n",
    "# def get_allfiles(path):\n",
    "#     global all_file,result\n",
    "#     print(all_file,1)\n",
    "#     if len(all_file)==0:\n",
    "#         return\n",
    "#     temp=all_file.pop()\n",
    "#     print(all_file,2)\n",
    "#     try:\n",
    "#         (listdir(temp))\n",
    "#     except:\n",
    "#         get_allfiles(path)\n",
    "#     result.append({temp:listdir(path+\"/\"+temp)})\n",
    "#     for i in listdir(temp):\n",
    "#         all_file.append(i)\n",
    "#     get_allfiles(path)  \n",
    "    \n",
    "# get_allfiles(path)"
   ]
  },
  {
   "cell_type": "code",
   "execution_count": 130,
   "id": "dee14a22",
   "metadata": {},
   "outputs": [],
   "source": [
    "from os import listdir\n",
    "import itertools\n",
    "from pprint import pprint\n",
    "\n",
    "all_file=[]\n",
    "\n",
    "def files_tool(path):\n",
    "    global all_file\n",
    "    all_file=[{path:listdir(path)}]\n",
    "\n",
    "    def get_allfiles1(path):\n",
    "        for i in open(\".foldignore\",\"r\").read().split(\"\\n\"):\n",
    "            if i in path:\n",
    "                return False\n",
    "        try:\n",
    "            listdir(path)\n",
    "        except:\n",
    "            return False\n",
    "        for i in listdir(path):\n",
    "            temp=path+\"/\"+i\n",
    "            if get_allfiles1(temp):\n",
    "                all_file.append({temp:listdir(temp)})\n",
    "        return True\n",
    "    get_allfiles1(path)\n",
    "    return all_file\n",
    "    "
   ]
  },
  {
   "cell_type": "code",
   "execution_count": 131,
   "id": "e2067c35",
   "metadata": {},
   "outputs": [
    {
     "name": "stdout",
     "output_type": "stream",
     "text": [
      "[{'.': ['.env',\n",
      "        '.foldignore',\n",
      "        '.git',\n",
      "        '.gitignore',\n",
      "        '.venv',\n",
      "        'idea.excalidraw',\n",
      "        'my-app',\n",
      "        'output.png',\n",
      "        'test.ipynb',\n",
      "        'test.py',\n",
      "        'test1.ipynb',\n",
      "        'test1.py',\n",
      "        'test_agent.py',\n",
      "        'text.html',\n",
      "        'text.md',\n",
      "        '__pycache__']},\n",
      " {'./.git/hooks': ['applypatch-msg.sample',\n",
      "                   'commit-msg.sample',\n",
      "                   'fsmonitor-watchman.sample',\n",
      "                   'post-update.sample',\n",
      "                   'pre-applypatch.sample',\n",
      "                   'pre-commit.sample',\n",
      "                   'pre-merge-commit.sample',\n",
      "                   'pre-push.sample',\n",
      "                   'pre-rebase.sample',\n",
      "                   'pre-receive.sample',\n",
      "                   'prepare-commit-msg.sample',\n",
      "                   'push-to-checkout.sample',\n",
      "                   'sendemail-validate.sample',\n",
      "                   'update.sample']},\n",
      " {'./.git/info': ['exclude']},\n",
      " {'./.git/logs/refs/heads': ['main']},\n",
      " {'./.git/logs/refs/remotes/origin': ['main']},\n",
      " {'./.git/logs/refs/remotes': ['origin']},\n",
      " {'./.git/logs/refs': ['heads', 'remotes']},\n",
      " {'./.git/logs': ['HEAD', 'refs']},\n",
      " {'./.git/objects/03': ['b77927f166ad1bb74d91db71ce82912634af33',\n",
      "                        'ff81deb00c970571a793a17323fec0b92c359b']},\n",
      " {'./.git/objects/05': ['69f8483485d7922cb1b2588a64a2e1e99ce011']},\n",
      " {'./.git/objects/0f': ['6a8463b9301ce4a9005501a2dbb6c9545a4a5c',\n",
      "                        'c852c91664d066a7bf1445b29c1c299fa8af21']},\n",
      " {'./.git/objects/12': ['d990cb46d80b114c983fce2edf3e168800a6c8']},\n",
      " {'./.git/objects/1d': ['13a86c959494bc7dfa8d12afa1595d5674d45f',\n",
      "                        'a0c5724974ec60fa3cc4757f6606a2aeaf1ec6']},\n",
      " {'./.git/objects/25': ['b4439f3e891de61ad69ba10d502703fc809b38']},\n",
      " {'./.git/objects/26': ['8d8e8cdc524525a17a720c178b29481274dcdb']},\n",
      " {'./.git/objects/2a': ['760d68521aca7d2a1d5719807c7836dfb2c4d9']},\n",
      " {'./.git/objects/36': ['c9dcb1395b32ae8eb39476ecf9abb01ad84cff']},\n",
      " {'./.git/objects/3a': ['18fa7e239de38bfab3c9cbe0ef8be0c7b8656b']},\n",
      " {'./.git/objects/3c': ['4813b3cef4faafe03b365453f5e111168049c1',\n",
      "                        '7940329a92530a17154f9c2a09e03349be1525']},\n",
      " {'./.git/objects/3e': ['e26721308da3d4d0fa1e1da87ee5f2e58a4028']},\n",
      " {'./.git/objects/45': ['5e972171af3c32d5607c0a919daa1bbbc0264d',\n",
      "                        'c10fb81b8b75b08a31ad229a6948cefd6ce920']},\n",
      " {'./.git/objects/4f': ['16f9db6f5cb45e42eddb2dc765d3d5c1b7cc3d',\n",
      "                        'afd86b487727859d141229873e14d0e1a00444']},\n",
      " {'./.git/objects/52': ['eaefaff9151ba2dbf15dea92f32e42e3a71577']},\n",
      " {'./.git/objects/59': ['a293f3019fe663a53b660d57a83cd3ac1550e4']},\n",
      " {'./.git/objects/5e': ['f6a520780202a1d6addd833d800ccb1ecac0bb']},\n",
      " {'./.git/objects/5f': ['4b7e23bbd6e362954e99fdaa120a800c27d26a']},\n",
      " {'./.git/objects/62': ['106e5868c5fd74d69d93894d5564d5b243a525']},\n",
      " {'./.git/objects/68': ['5b43d8c7e699ce020fe1336e8534bf3923acab']},\n",
      " {'./.git/objects/6d': ['829a06b34f065fcddac1760eaa1efd720c5264']},\n",
      " {'./.git/objects/71': ['da6439f7c9c3681e5298556b3d1a6a97c9f94f']},\n",
      " {'./.git/objects/73': ['28b16f46dba8da2b27f4a3788ffd25d314202e']},\n",
      " {'./.git/objects/75': ['7a41bc279a7ca021a023758df7bbad0db9d03d']},\n",
      " {'./.git/objects/7f': ['fc940d5fd848e5d7fba70ed6c45199618631c1']},\n",
      " {'./.git/objects/81': ['d4e47feb97a74c406b7bb31d6ae58ce536fcb6']},\n",
      " {'./.git/objects/83': ['a8d0e84e8015d3e3b1d6e20b505c273e2e46ff']},\n",
      " {'./.git/objects/8b': ['596dc01a16c970cf62f617511d2b1f7ff8a62e']},\n",
      " {'./.git/objects/8e': ['20bf187fdb7ed19bf13dc7bf53b8b113622722']},\n",
      " {'./.git/objects/91': ['59b88a3c5055591940cc7481dc145609d240a7']},\n",
      " {'./.git/objects/93': ['be1e0c6543417e665a1d40ca74fc93eb8aecd9']},\n",
      " {'./.git/objects/9d': ['2e99ce3cacaff3d9836e31b1a3d677fe950281']},\n",
      " {'./.git/objects/a2': ['dc41ecee5ec435200fe7cba2bde4107f823774']},\n",
      " {'./.git/objects/a8': ['9472d5195e97fc67d5e0abb39cc15920c3f9b2']},\n",
      " {'./.git/objects/ab': ['4fa3b7c8a8d8bbe4648d1652f293cdbb807bb0']},\n",
      " {'./.git/objects/b1': ['336d61b071fb745351b7f21d0e1aa9b7c0edaf']},\n",
      " {'./.git/objects/bb': ['c742c920fcd06596afdda9152709206522fdab']},\n",
      " {'./.git/objects/c7': ['0ee85979d4a9b666c6142311ad46b9485fb5e7',\n",
      "                        'bcb4b1ee14cd5e25078c2c934529afdd2a7df9']},\n",
      " {'./.git/objects/c8': ['5fb67c463f20d1ee449b0ffee725a61dfb9259']},\n",
      " {'./.git/objects/ca': ['869736c21a5e9407d26024b23c9d4263f1dff0']},\n",
      " {'./.git/objects/cb': ['4231708f78700661360599c5264b158a891981']},\n",
      " {'./.git/objects/d0': ['4d2b65c222ebe29925ccaba277605851fad96b']},\n",
      " {'./.git/objects/d1': ['16881300195c5c19373c2b9519e14ea7196e72',\n",
      "                        '17bb35e27943908baf1657a72ef1abd6c1cce1']},\n",
      " {'./.git/objects/d5': ['a6cbd8bbb89bdf8f782882635c606bfee3a931']},\n",
      " {'./.git/objects/d8': ['b93235f205efbea6e8fceb1c9ddb57ddddf28d']},\n",
      " {'./.git/objects/db': ['08e54a06953c581d4fa3ebea83076d18e66639']},\n",
      " {'./.git/objects/e2': ['15bc4ccf138bbc38ad58ad57e92135484b3c0f',\n",
      "                        'a86602292c09b371af4da711b2b00da164f417']},\n",
      " {'./.git/objects/e6': ['9de29bb2d1d6434b8b29ae775ad8c2e48c5391']},\n",
      " {'./.git/objects/e9': ['b219a851023689d80e2b9c80632ef01b8b0f4e',\n",
      "                        'cdbf9b703358246d0cbe683b5e38bf8e4e0628',\n",
      "                        'ffa3083ad279ecf95fd8eae59cb253e9a539c4']},\n",
      " {'./.git/objects/ec': ['7d186f3515ca1b24c3b347e547b96888b9b202']},\n",
      " {'./.git/objects/ed': ['8ebf583f771da9150c35db3955987b7d757904']},\n",
      " {'./.git/objects/f8': ['31ecfb72123713777ef19b591642749fb6f6f8']},\n",
      " {'./.git/objects/fa': ['f6d22674b35b54e8347b3fed3a979bae3fcbd7']},\n",
      " {'./.git/objects/info': []},\n",
      " {'./.git/objects/pack': []},\n",
      " {'./.git/objects': ['03',\n",
      "                     '05',\n",
      "                     '0f',\n",
      "                     '12',\n",
      "                     '1d',\n",
      "                     '25',\n",
      "                     '26',\n",
      "                     '2a',\n",
      "                     '36',\n",
      "                     '3a',\n",
      "                     '3c',\n",
      "                     '3e',\n",
      "                     '45',\n",
      "                     '4f',\n",
      "                     '52',\n",
      "                     '59',\n",
      "                     '5e',\n",
      "                     '5f',\n",
      "                     '62',\n",
      "                     '68',\n",
      "                     '6d',\n",
      "                     '71',\n",
      "                     '73',\n",
      "                     '75',\n",
      "                     '7f',\n",
      "                     '81',\n",
      "                     '83',\n",
      "                     '8b',\n",
      "                     '8e',\n",
      "                     '91',\n",
      "                     '93',\n",
      "                     '9d',\n",
      "                     'a2',\n",
      "                     'a8',\n",
      "                     'ab',\n",
      "                     'b1',\n",
      "                     'bb',\n",
      "                     'c7',\n",
      "                     'c8',\n",
      "                     'ca',\n",
      "                     'cb',\n",
      "                     'd0',\n",
      "                     'd1',\n",
      "                     'd5',\n",
      "                     'd8',\n",
      "                     'db',\n",
      "                     'e2',\n",
      "                     'e6',\n",
      "                     'e9',\n",
      "                     'ec',\n",
      "                     'ed',\n",
      "                     'f8',\n",
      "                     'fa',\n",
      "                     'info',\n",
      "                     'pack']},\n",
      " {'./.git/refs/heads': ['main']},\n",
      " {'./.git/refs/remotes/origin': ['main']},\n",
      " {'./.git/refs/remotes': ['origin']},\n",
      " {'./.git/refs/tags': []},\n",
      " {'./.git/refs': ['heads', 'remotes', 'tags']},\n",
      " {'./.git': ['COMMIT_EDITMSG',\n",
      "             'config',\n",
      "             'description',\n",
      "             'FETCH_HEAD',\n",
      "             'HEAD',\n",
      "             'hooks',\n",
      "             'index',\n",
      "             'info',\n",
      "             'logs',\n",
      "             'objects',\n",
      "             'ORIG_HEAD',\n",
      "             'refs']},\n",
      " {'./my-app/app': ['globals.css', 'layout.tsx', 'page.tsx']},\n",
      " {'./my-app/components': ['chat.tsx']},\n",
      " {'./my-app/public': []},\n",
      " {'./my-app': ['.gitignore',\n",
      "               '.next',\n",
      "               'app',\n",
      "               'components',\n",
      "               'eslint.config.mjs',\n",
      "               'next-env.d.ts',\n",
      "               'next.config.ts',\n",
      "               'node_modules',\n",
      "               'package-lock.json',\n",
      "               'package.json',\n",
      "               'postcss.config.mjs',\n",
      "               'public',\n",
      "               'README.md',\n",
      "               'tsconfig.json']}]\n"
     ]
    }
   ],
   "source": [
    "pprint(files_tool(\".\"))"
   ]
  },
  {
   "cell_type": "code",
   "execution_count": null,
   "id": "3c30a0f9",
   "metadata": {},
   "outputs": [],
   "source": []
  }
 ],
 "metadata": {
  "kernelspec": {
   "display_name": ".venv",
   "language": "python",
   "name": "python3"
  },
  "language_info": {
   "codemirror_mode": {
    "name": "ipython",
    "version": 3
   },
   "file_extension": ".py",
   "mimetype": "text/x-python",
   "name": "python",
   "nbconvert_exporter": "python",
   "pygments_lexer": "ipython3",
   "version": "3.12.4"
  }
 },
 "nbformat": 4,
 "nbformat_minor": 5
}

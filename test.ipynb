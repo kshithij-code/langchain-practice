{
 "cells": [
  {
   "cell_type": "code",
   "execution_count": 82,
   "id": "897cd0d9",
   "metadata": {},
   "outputs": [],
   "source": [
    "from ollama import Client\n",
    "client = Client(\n",
    "  host='http://localhost:11434',\n",
    "  headers={'x-some-header': 'some-value'}\n",
    ")\n",
    "response = client.chat(model='gemma3:1b', messages=[\n",
    "  {\n",
    "    'role': 'user',\n",
    "    'content': 'Why is the sky blue?',\n",
    "  },\n",
    "])"
   ]
  },
  {
   "cell_type": "code",
   "execution_count": 86,
   "id": "81b5a747",
   "metadata": {},
   "outputs": [
    {
     "name": "stdout",
     "output_type": "stream",
     "text": [
      "The sky is blue due to a phenomenon called **Rayleigh scattering**. Here's a breakdown of why it happens:\n",
      "\n",
      "1. **Sunlight enters the Earth's atmosphere:** Sunlight appears white to us, but it's actually made up of all the colors of the rainbow.\n",
      "\n",
      "2. **Collisions with air molecules:** As sunlight travels through the Earth's atmosphere, it collides with tiny air molecules (mostly nitrogen and oxygen).\n",
      "\n",
      "3. **Blue light scatters more:**  Rayleigh scattering is the scattering of light by particles of a much smaller wavelength. Blue and violet light have shorter wavelengths than other colors like red and orange.  Because of this, blue light is scattered more intensely by these air molecules.\n",
      "\n",
      "4. **We see the scattered blue light:**  As a result, when we look up at the sky, we see this scattered blue light coming from all directions. \n",
      "\n",
      "**Think of it like this:** Imagine throwing a bunch of small bouncy balls (blue light) and a bunch of large balls (red light) at a bumpy surface. The small balls are more likely to bounce off in all directions, while the large balls are more likely to travel straight through.\n",
      "\n",
      "**Why not violet then?** Violet light is scattered even more than blue light. However, the sun emits less violet light, and our eyes are more sensitive to blue than violet.  That's why we perceive the sky as blue rather than violet.\n",
      "\n",
      "**In short, the sky is blue because blue light is scattered more by the air molecules in the atmosphere.**\n",
      "\n",
      "---\n",
      "\n",
      "**Want to learn more? Here are some related topics:**\n",
      "\n",
      "*   **Why are sunsets red?**  At sunset, the sunlight has to travel through more of the atmosphere. This longer path scatters away most of the blue light, leaving the longer wavelengths like orange and red to dominate.\n",
      "*   **How does this happen on a large scale?** The atmosphere is incredibly complex and constantly changing, making the scattering process a dynamic thing.\n",
      "\n",
      "Do you have any other questions about the sky or atmospheric scattering?\n"
     ]
    }
   ],
   "source": [
    "print(response.message.content)"
   ]
  },
  {
   "cell_type": "code",
   "execution_count": 80,
   "id": "7c090c8e",
   "metadata": {},
   "outputs": [
    {
     "name": "stdout",
     "output_type": "stream",
     "text": [
      "Okay, let's break down why the sky is blue! It's a surprisingly complex phenomenon, but here's the simplified explanation:\n",
      "\n",
      "**1. Sunlight is Made of All Colors:**\n",
      "\n",
      "* Sunlight, from the sun, actually contains all the colors of the rainbow – red, orange, yellow, green, blue, indigo, and violet.\n",
      "\n",
      "**2. Rayleigh Scattering – The Key Process:**\n",
      "\n",
      "* **It all starts with the atmosphere:** Our atmosphere isn't just empty space; it's filled with tiny air molecules (mostly nitrogen and oxygen).\n",
      "* **Rayleigh Scattering:**  This is the crucial part. When sunlight enters the atmosphere, it collides with these tiny particles. This collision causes the sunlight to scatter in different directions. This scattering is called Rayleigh scattering.\n",
      "* **Blue Light is Scattered More Easily:**  Blue and violet light have shorter wavelengths than other colors. Shorter wavelengths are more easily scattered by the air molecules. \n",
      "\n",
      "**3. Why Not Violet?**\n",
      "\n",
      "* **Less Violet in Sunlight:**  The sun emits slightly less violet light than blue light.\n",
      "* **Our Eyes Are More Sensitive to Blue:** Our eyes are also more sensitive to blue light than violet light.\n",
      "\n",
      "**4. What We See - The Blue Sky!**\n",
      "\n",
      "* **The Effect:** Because blue light is scattered more, it gets dispersed across the sky.  When we look up, we see this scattered blue light coming to our eyes, making the sky appear blue.\n",
      "\n",
      "**Think of it like this:** Imagine throwing a handful of small pebbles (blue light) into a pond (the atmosphere). The pebbles will bounce around in all directions.  The ripples (scattering) are more pronounced and widespread with the smaller pebbles.\n",
      "\n",
      "\n",
      "**Important Note:**\n",
      "\n",
      "* **Sunsets are Red:**  At sunset, the sun is low on the horizon. Sunlight has to travel through *much* more of the atmosphere to reach our eyes. This longer path means that most of the blue light has been scattered away.  We’re left with the longer wavelengths – primarily red and orange – which dominate the sky’s colors.\n",
      "\n",
      "\n",
      "**In short, the sky is blue because of a process called Rayleigh scattering, where blue light is scattered more effectively by the atmosphere than other colors.**\n",
      "\n",
      "---\n",
      "\n",
      "**Do you want to dive deeper into any of these aspects? For example, would you like to know:**\n",
      "\n",
      "*   More about the colors in sunlight?\n",
      "*   How it relates to why sunsets are red?\n",
      "*   The physics of why Rayleigh scattering works so well?\n"
     ]
    }
   ],
   "source": [
    "# Install the client if you haven't yet:\n",
    "# pip install ollama\n",
    "\n",
    "from ollama import chat, Client\n",
    "\n",
    "# Simple one-shot chat\n",
    "response = chat(\n",
    "    model='gemma3:1b',\n",
    "    messages=[\n",
    "        {'role': 'user', 'content': 'Why is the sky blue?'}\n",
    "    ],\n",
    "    stream=False  # set to True to receive streaming output\n",
    ")\n",
    "print(response.message.content)\n"
   ]
  },
  {
   "cell_type": "code",
   "execution_count": 15,
   "id": "3899d52b",
   "metadata": {},
   "outputs": [],
   "source": [
    "from langchain_ollama import OllamaLLM\n",
    "\n",
    "model1 = OllamaLLM(model=\"qwen3:1.7b\")\n",
    "res=model1.invoke(input(\"message:\"))"
   ]
  },
  {
   "cell_type": "code",
   "execution_count": 16,
   "id": "b8e5d6f3",
   "metadata": {},
   "outputs": [],
   "source": [
    "with open(\"text.md\",\"w\",encoding=\"utf-8\") as f:\n",
    "    f.write(res)"
   ]
  },
  {
   "cell_type": "code",
   "execution_count": 37,
   "id": "4cf1ef80",
   "metadata": {},
   "outputs": [],
   "source": [
    "from markdown import markdown\n",
    "\n",
    "with open(\"text.html\",\"w\",encoding=\"utf-8\") as f:\n",
    "    f.write(markdown(res))"
   ]
  },
  {
   "cell_type": "code",
   "execution_count": 41,
   "id": "f01a0d73",
   "metadata": {},
   "outputs": [
    {
     "data": {
      "text/plain": [
       "'```python\\nprint(\"Hello, world!\")\\n```\\n\\nThis single line of code will print \"Hello, world!\" to the console.\\n\\n**How to run this code:**\\n\\n1.  **Save the code:**  Save this code in a file named, for example, `hello.py`.\\n2.  **Open a terminal or command prompt:**  Navigate to the directory where you saved the file.\\n3.  **Run the code:**  Type `python hello.py` and press Enter.  (You might need to use `python3` depending on your Python installation.)\\n\\nThis will print \"Hello, world!\" to your console.\\n'"
      ]
     },
     "execution_count": 41,
     "metadata": {},
     "output_type": "execute_result"
    }
   ],
   "source": [
    "res"
   ]
  },
  {
   "cell_type": "code",
   "execution_count": 3,
   "id": "82c17a21",
   "metadata": {},
   "outputs": [
    {
     "data": {
      "text/plain": [
       "'Hi there! How’s your day going so far? 😊 \\n\\nDo you want to talk about anything in particular, or was there anything you’d like to chat about?'"
      ]
     },
     "execution_count": 3,
     "metadata": {},
     "output_type": "execute_result"
    }
   ],
   "source": [
    "from langchain_community.llms import Ollama\n",
    "\n",
    "llm = Ollama(model=\"gemma3:1b\")\n",
    "llm.invoke(\"hi\")"
   ]
  },
  {
   "cell_type": "code",
   "execution_count": 18,
   "id": "db29c1e6",
   "metadata": {},
   "outputs": [],
   "source": [
    "from langchain_core.messages import HumanMessage\n",
    "from langgraph.checkpoint.memory import MemorySaver\n",
    "from langgraph.prebuilt import create_react_agent\n",
    "from langchain_ollama import ChatOllama\n",
    "def check_name(name:str)->str:\n",
    "    '''return a welcome message'''\n",
    "    return f\"hi {name}\"\n",
    "\n",
    "# Create the agent\n",
    "memory = MemorySaver()\n",
    "model = ChatOllama(model=\"qwen3:1.7b\")\n",
    "tools = [check_name]\n",
    "agent_executor = create_react_agent(model, tools, checkpointer=memory)"
   ]
  },
  {
   "cell_type": "code",
   "execution_count": null,
   "id": "662eb645",
   "metadata": {},
   "outputs": [
    {
     "name": "stdout",
     "output_type": "stream",
     "text": [
      "================================\u001b[1m Human Message \u001b[0m=================================\n",
      "\n",
      "hi im bob! and i live in sf\n",
      "==================================\u001b[1m Ai Message \u001b[0m==================================\n",
      "\n",
      "<think>\n",
      "Okay, the user said, \"hi im bob! and i live in sf\". They want to be greeted. The function provided is check_name, which returns a welcome message. The parameters need a name. Since the user mentioned their name is Bob and they live in SF, I should use that. So the function call will have name \"Bob\" and maybe the location? Wait, the function's parameters only require the name. The location might be extra info. But the function doesn't need it. So just call check_name with name Bob. The welcome message will include their name and location. Let me make sure I'm not adding unnecessary parameters. The function's required field is just name. So the tool call is correct.\n",
      "</think>\n",
      "Tool Calls:\n",
      "  check_name (d0fe134f-1b45-4697-a649-49a7cd574236)\n",
      " Call ID: d0fe134f-1b45-4697-a649-49a7cd574236\n",
      "  Args:\n",
      "    name: Bob\n",
      "=================================\u001b[1m Tool Message \u001b[0m=================================\n",
      "Name: check_name\n",
      "\n",
      "hi Bob\n",
      "==================================\u001b[1m Ai Message \u001b[0m==================================\n",
      "\n",
      "<think>\n",
      "Okay, the user provided their name as Bob and mentioned living in SF. The function check_name was called with the name \"Bob\". The response from the function is \"hi Bob\". Since the user didn't ask for anything else, just a greeting. I should confirm the response and maybe ask if they need anything else. Let me check if there's any other info needed. The initial message was straightforward, so a simple reply should be fine.\n",
      "</think>\n",
      "\n",
      "Hello, Bob! Welcome to San Francisco. Let me know if you need any assistance! 😊\n"
     ]
    }
   ],
   "source": [
    "# Use the agent\n",
    "config = {\"configurable\": {\"thread_id\": \"abc123\"}}\n",
    "for step in agent_executor.stream(\n",
    "    {\"messages\": [HumanMessage(content=\"hi im bob! and i live in sf\")]},\n",
    "    config,\n",
    "    stream_mode=\"values\",\n",
    "):\n",
    "    step[\"messages\"][-1].pretty_print()"
   ]
  },
  {
   "cell_type": "code",
   "execution_count": null,
   "id": "1752b99f",
   "metadata": {},
   "outputs": [
    {
     "data": {
      "text/plain": [
       "[HumanMessage(content='hi!', additional_kwargs={}, response_metadata={}, id='fce39d90-dbde-46d9-93ba-1b29a7a990da'),\n",
       " AIMessage(content='<think>\\nOkay, the user said \"hi!\". I need to respond appropriately. The available tool is check_name, which returns a welcome message. But the user didn\\'t provide a name. Maybe I should ask for their name to personalize the welcome message. Let me check the function parameters again. The check_name function requires a \"name\" parameter, but the user didn\\'t give one. So, perhaps I should prompt them to provide their name before calling the function. Alternatively, maybe the function can handle the case where the name is missing? But the tool\\'s description says it\\'s required. Hmm. Since the user hasn\\'t given a name, I can\\'t call check_name without it. So, I should respond by asking for their name to proceed. That makes sense. Let me structure the response to ask for their name first.\\n</think>\\n\\nHello! Please share your name so I can greet you properly. 🌟', additional_kwargs={}, response_metadata={'model': 'qwen3:1.7b', 'created_at': '2025-06-14T17:48:04.158198Z', 'done': True, 'done_reason': 'stop', 'total_duration': 4668581100, 'load_duration': 31041900, 'prompt_eval_count': 137, 'prompt_eval_duration': 12950700, 'eval_count': 187, 'eval_duration': 4621484000, 'model_name': 'qwen3:1.7b'}, id='run--aa44726c-d984-4746-aa25-825fb9ad5a27-0', usage_metadata={'input_tokens': 137, 'output_tokens': 187, 'total_tokens': 324})]"
      ]
     },
     "execution_count": 22,
     "metadata": {},
     "output_type": "execute_result"
    }
   ],
   "source": [
    "from langgraph.prebuilt import create_react_agent\n",
    "\n",
    "agent_executor = create_react_agent(model, tools)\n",
    "response = agent_executor.invoke({\"messages\": [HumanMessage(content=\"hi!\")]},{\"recursion_limit\":100})\n",
    "\n",
    "response[\"messages\"]"
   ]
  },
  {
   "cell_type": "code",
   "execution_count": 24,
   "id": "1f792f97",
   "metadata": {},
   "outputs": [
    {
     "name": "stdout",
     "output_type": "stream",
     "text": [
      "================================\u001b[1m Human Message \u001b[0m=================================\n",
      "\n",
      "whats the weather in sf?\n",
      "==================================\u001b[1m Ai Message \u001b[0m==================================\n",
      "\n",
      "<think>\n",
      "Okay, the user is asking about the weather in San Francisco. Let me check the tools available. The only tool provided is check_name, which returns a welcome message. There's no weather-related function here. I can't retrieve current weather data. I should inform the user that I don't have access to real-time weather information. Maybe suggest they check a weather website or app for the latest updates. Keep the response helpful and polite.\n",
      "</think>\n",
      "\n",
      "I don't have access to real-time weather data or external information sources. You might want to check a weather website, app, or local meteorological service for the latest weather updates in San Francisco.\n"
     ]
    }
   ],
   "source": [
    "for step in agent_executor.stream(\n",
    "    {\"messages\": [HumanMessage(content=\"whats the weather in sf?\")]},\n",
    "    stream_mode=\"values\",\n",
    "):\n",
    "    step[\"messages\"][-1].pretty_print()"
   ]
  },
  {
   "cell_type": "code",
   "execution_count": null,
   "id": "ab480607",
   "metadata": {},
   "outputs": [],
   "source": []
  }
 ],
 "metadata": {
  "kernelspec": {
   "display_name": ".venv",
   "language": "python",
   "name": "python3"
  },
  "language_info": {
   "codemirror_mode": {
    "name": "ipython",
    "version": 3
   },
   "file_extension": ".py",
   "mimetype": "text/x-python",
   "name": "python",
   "nbconvert_exporter": "python",
   "pygments_lexer": "ipython3",
   "version": "3.12.4"
  }
 },
 "nbformat": 4,
 "nbformat_minor": 5
}
